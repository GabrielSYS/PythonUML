{
  "nbformat": 4,
  "nbformat_minor": 0,
  "metadata": {
    "colab": {
      "provenance": [],
      "authorship_tag": "ABX9TyPU7T1pJk26BeXKQ8lmfY/H",
      "include_colab_link": true
    },
    "kernelspec": {
      "name": "python3",
      "display_name": "Python 3"
    },
    "language_info": {
      "name": "python"
    }
  },
  "cells": [
    {
      "cell_type": "markdown",
      "metadata": {
        "id": "view-in-github",
        "colab_type": "text"
      },
      "source": [
        "<a href=\"https://colab.research.google.com/github/GabrielSYS/PythonUML/blob/main/UML_e_Python.ipynb\" target=\"_parent\"><img src=\"https://colab.research.google.com/assets/colab-badge.svg\" alt=\"Open In Colab\"/></a>"
      ]
    },
    {
      "cell_type": "code",
      "execution_count": null,
      "metadata": {
        "id": "WdvWaBqg-wVI"
      },
      "outputs": [],
      "source": [
        "from datetime import datetime\n"
      ]
    },
    {
      "cell_type": "code",
      "source": [
        "def contaLuz(dataLeitura, numeroLeitura, Kwh, valorPagar, dataPagamento, mediaConsumo):\n",
        "    dataLeitura = input(\"Data\")\n",
        "    numeroLeitura = int(input(\"ID\"))\n",
        "    Kwh = float(input(\"Kwh\"))\n",
        "    valorPagar = float(input(\"valor a pagar\"))\n",
        "    dataPagamento = datetime.strptime(input(\"Data de pagamento\"), '%d/%m/%Y').date()\n",
        "    mediaConsumo = input(\"Media de consumo\")\n",
        "    return {'dataLeitura': dataLeitura, 'numeroLeitura': numeroLeitura, 'kwh': Kwh, 'valorPagar': valorPagar, 'dataPagamento': dataPagamento, 'mediaConsumo': mediaConsumo}\n",
        "\n",
        "lista = []\n",
        "num_contas = int(input(\"Digite o número de contas de luz a serem cadastradas: \"))\n",
        "\n",
        "for i in range(num_contas):\n",
        "    nova_conta = contaLuz('', 0, 0.0, 0.0, None, '')\n",
        "    lista.append(nova_conta)\n",
        "\n",
        "print(lista)\n",
        "\n"
      ],
      "metadata": {
        "id": "7CfW3Yiw-5wM",
        "outputId": "a042b1be-971a-4877-853e-313739e751bb",
        "colab": {
          "base_uri": "https://localhost:8080/"
        }
      },
      "execution_count": null,
      "outputs": [
        {
          "output_type": "stream",
          "name": "stdout",
          "text": [
            "Digite o número de contas de luz a serem cadastradas: 2\n",
            "Data06/06/2023\n",
            "ID132\n",
            "Kwh234\n",
            "valor a pagar234\n",
            "Data de pagamento06/06/2023\n",
            "Media de consumo23\n",
            "Data06/05/2023\n",
            "ID42\n",
            "Kwh132543\n",
            "valor a pagar3241\n",
            "Data de pagamento06/04/2023\n",
            "Media de consumo2\n",
            "[{'dataLeitura': '06/06/2023', 'numeroLeitura': 132, 'kwh': 234.0, 'valorPagar': 234.0, 'dataPagamento': datetime.date(2023, 6, 6), 'mediaConsumo': '23'}, {'dataLeitura': '06/05/2023', 'numeroLeitura': 42, 'kwh': 132543.0, 'valorPagar': 3241.0, 'dataPagamento': datetime.date(2023, 4, 6), 'mediaConsumo': '2'}]\n"
          ]
        }
      ]
    }
  ]
}
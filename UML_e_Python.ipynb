{
  "nbformat": 4,
  "nbformat_minor": 0,
  "metadata": {
    "colab": {
      "provenance": [],
      "authorship_tag": "ABX9TyPLDdZjPTDAhdGcsRS02/8/",
      "include_colab_link": true
    },
    "kernelspec": {
      "name": "python3",
      "display_name": "Python 3"
    },
    "language_info": {
      "name": "python"
    }
  },
  "cells": [
    {
      "cell_type": "markdown",
      "metadata": {
        "id": "view-in-github",
        "colab_type": "text"
      },
      "source": [
        "<a href=\"https://colab.research.google.com/github/GabrielSYS/PythonUML/blob/main/UML_e_Python.ipynb\" target=\"_parent\"><img src=\"https://colab.research.google.com/assets/colab-badge.svg\" alt=\"Open In Colab\"/></a>"
      ]
    },
    {
      "cell_type": "code",
      "source": [
        "from datetime import datetime\n",
        "def contaLuz(dataLeitura, numeroLeitura, Kwh, valorPagar, dataPagamento):\n",
        "    dataLeitura = datetime.strptime(input(\"Data da leitura \"), '%d/%m/%Y').date()\n",
        "    numeroLeitura = int(input(\"ID \"))\n",
        "    Kwh = float(input(\"Kwh \"))\n",
        "    valorPagar = float(input(\"valor a pagar \"))\n",
        "    dataPagamento = datetime.strptime(input(\"Data de pagamento \"), '%d/%m/%Y').date()\n",
        "    \n",
        "    return {'dataLeitura ': dataLeitura, 'numeroLeitura ': numeroLeitura, 'kwh ': Kwh, 'valorPagar ': valorPagar, 'dataPagamento ': dataPagamento}\n",
        "\n",
        "\n",
        "lista = []\n",
        "numContas = int(input(\"Digite o número de contas de luz a serem cadastradas: \"))\n",
        "\n",
        "\n",
        "for i in range(numContas):\n",
        "    novaConta = contaLuz(None, 0, 0.0, 0.0, None)\n",
        "    lista.append(novaConta)\n",
        "\n",
        "\n",
        "print(lista)"
      ],
      "metadata": {
        "id": "7CfW3Yiw-5wM"
      },
      "execution_count": null,
      "outputs": []
    },
    {
      "cell_type": "code",
      "source": [
        "for conta in lista:\n",
        "    soma = 0\n",
        "    soma += conta.get('valorPagar')\n",
        "\n",
        "media = soma / len(lista)\n",
        "print(\"Média dos valores de valor a pagar:\", media)"
      ],
      "metadata": {
        "id": "YabmVMsI4XUq"
      },
      "execution_count": null,
      "outputs": []
    },
    {
      "cell_type": "code",
      "source": [
        "lista = [\"oi\", 2.0, 5, [10, 20]]\n",
        "lista_aninhada = lista[3]\n",
        "print(lista_aninhada)\n",
        "item = lista_aninhada[1]\n",
        "print(item)\n",
        "\n",
        "print(lista[3][1])\n",
        "type(lista[3][1])\n"
      ],
      "metadata": {
        "colab": {
          "base_uri": "https://localhost:8080/"
        },
        "id": "YzEC-UJeE18-",
        "outputId": "7f84b710-a341-4aac-9a54-126e7492d809"
      },
      "execution_count": 29,
      "outputs": [
        {
          "output_type": "stream",
          "name": "stdout",
          "text": [
            "[10, 20]\n",
            "20\n",
            "20\n"
          ]
        },
        {
          "output_type": "execute_result",
          "data": {
            "text/plain": [
              "int"
            ]
          },
          "metadata": {},
          "execution_count": 29
        }
      ]
    }
  ]
}
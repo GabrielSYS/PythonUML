{
  "nbformat": 4,
  "nbformat_minor": 0,
  "metadata": {
    "colab": {
      "provenance": [],
      "authorship_tag": "ABX9TyPNcPThQITkqQg36JYoUKqY",
      "include_colab_link": true
    },
    "kernelspec": {
      "name": "python3",
      "display_name": "Python 3"
    },
    "language_info": {
      "name": "python"
    }
  },
  "cells": [
    {
      "cell_type": "markdown",
      "metadata": {
        "id": "view-in-github",
        "colab_type": "text"
      },
      "source": [
        "<a href=\"https://colab.research.google.com/github/GabrielSYS/PythonUML/blob/main/UML_e_Python.ipynb\" target=\"_parent\"><img src=\"https://colab.research.google.com/assets/colab-badge.svg\" alt=\"Open In Colab\"/></a>"
      ]
    },
    {
      "cell_type": "markdown",
      "source": [
        "\n",
        "Calculo de conta de luz\n",
        "\n"
      ],
      "metadata": {
        "id": "b-iN8dESRTFt"
      }
    },
    {
      "cell_type": "code",
      "source": [
        "from datetime import datetime\n",
        "\n",
        "class ContaDeLuz:\n",
        "    ''' Classe para registrar contas de luz e calcular a média de gasto'''\n",
        "\n",
        "    def __init__(self, dataLeitura, numeroLeitura, Kwh, valorPagar, dataPagamento):\n",
        "        self.dataLeitura = datetime.strptime(input(\"Data da leitura: \"), '%d/%m/%Y').date()\n",
        "        self.numeroLeitura = int(input(\"ID: \"))\n",
        "        self.Kwh = float(input(\"Kwh: \"))\n",
        "        self.valorPagar = float(input(\"Valor a pagar: \"))\n",
        "        self.dataPagamento = datetime.strptime(input(\"Data de pagamento: \"), '%d/%m/%Y').date()\n",
        "\n",
        "    @staticmethod\n",
        "    def calcular():\n",
        "        lista = []\n",
        "        numContas = int(input(\"Digite o número de contas de luz a serem cadastradas: \"))\n",
        "        for i in range(numContas):\n",
        "            novaConta = ContaDeLuz(None, 0, 0.0, 0.0, None)\n",
        "            lista.append(novaConta)\n",
        "        return lista\n",
        "\n",
        "    @staticmethod\n",
        "    def media(lista):\n",
        "        soma = 0\n",
        "        for conta in lista:\n",
        "            soma += conta.valorPagar\n",
        "        media = soma / len(lista)\n",
        "        print(\"Média dos valores de valor a pagar:\", media)\n",
        "\n",
        "lista_contas = ContaDeLuz.calcular()\n",
        "print(lista_contas)\n"
      ],
      "metadata": {
        "colab": {
          "base_uri": "https://localhost:8080/"
        },
        "id": "RX1EAf-iqCvf",
        "outputId": "2bcf920b-495f-46f3-e01f-c0e5c8ac8058"
      },
      "execution_count": 11,
      "outputs": [
        {
          "output_type": "stream",
          "name": "stdout",
          "text": [
            "Digite o número de contas de luz a serem cadastradas: 1\n",
            "Data da leitura: 12/04/2003\n",
            "ID: 12\n",
            "Kwh: 3214\n",
            "Valor a pagar: 2314\n",
            "Data de pagamento: 12/03/2003\n",
            "[<__main__.ContaDeLuz object at 0x7fc7e5203670>]\n"
          ]
        }
      ]
    },
    {
      "cell_type": "code",
      "source": [
        "a = ContaDeLuz.media(lista_contas)\n",
        "print(a)"
      ],
      "metadata": {
        "colab": {
          "base_uri": "https://localhost:8080/"
        },
        "id": "_kQV72thFpUt",
        "outputId": "9c7cc28e-b643-4de3-e2b6-7df301f31399"
      },
      "execution_count": 13,
      "outputs": [
        {
          "output_type": "stream",
          "name": "stdout",
          "text": [
            "Média dos valores de valor a pagar: 2314.0\n",
            "None\n"
          ]
        }
      ]
    }
  ]
}
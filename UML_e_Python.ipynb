{
  "nbformat": 4,
  "nbformat_minor": 0,
  "metadata": {
    "colab": {
      "provenance": [],
      "authorship_tag": "ABX9TyOFSP+jwJw5woLh13MPiKJo",
      "include_colab_link": true
    },
    "kernelspec": {
      "name": "python3",
      "display_name": "Python 3"
    },
    "language_info": {
      "name": "python"
    }
  },
  "cells": [
    {
      "cell_type": "markdown",
      "metadata": {
        "id": "view-in-github",
        "colab_type": "text"
      },
      "source": [
        "<a href=\"https://colab.research.google.com/github/GabrielSYS/PythonUML/blob/main/UML_e_Python.ipynb\" target=\"_parent\"><img src=\"https://colab.research.google.com/assets/colab-badge.svg\" alt=\"Open In Colab\"/></a>"
      ]
    },
    {
      "cell_type": "code",
      "source": [
        "from datetime import datetime\n",
        "def contaLuz(dataLeitura, numeroLeitura, Kwh, valorPagar, dataPagamento):\n",
        "   # dataLeitura = datetime.striptime(input(\"Data da leitura \"), '%d/%m/%Y').date()\n",
        " #   numeroLeitura = int(input(\"ID \"))\n",
        "  #  Kwh = float(input(\"Kwh \"))\n",
        "    valorPagar = float(input(\"valor a pagar \"))\n",
        "#    dataPagamento = datetime.strptime(input(\"Data de pagamento \"), '%d/%m/%Y').date()\n",
        "    \n",
        "    return {'dataLeitura ': dataLeitura, 'numeroLeitura ': numeroLeitura, 'kwh ': Kwh, 'valorPagar ': valorPagar, 'dataPagamento ': dataPagamento}\n",
        "\n",
        "\n",
        "lista = []\n",
        "numContas = int(input(\"Digite o número de contas de luz a serem cadastradas: \"))\n",
        "\n",
        "\n",
        "for i in range(numContas):\n",
        "    novaConta = contaLuz(None, 0, 0.0, 0.0, None)\n",
        "    lista.append(novaConta)\n",
        "\n",
        "\n",
        "print(lista)\n",
        "\n",
        "\n"
      ],
      "metadata": {
        "id": "7CfW3Yiw-5wM",
        "outputId": "2afa331a-d517-495a-cc55-cc9d3af1c51a",
        "colab": {
          "base_uri": "https://localhost:8080/"
        }
      },
      "execution_count": null,
      "outputs": [
        {
          "output_type": "stream",
          "name": "stdout",
          "text": [
            "Digite o número de contas de luz a serem cadastradas: 2\n",
            "valor a pagar 12\n",
            "valor a pagar 32\n",
            "[{'dataLeitura ': '', 'numeroLeitura ': 0, 'kwh ': 0.0, 'valorPagar ': 12.0, 'dataPagamento ': None}, {'dataLeitura ': '', 'numeroLeitura ': 0, 'kwh ': 0.0, 'valorPagar ': 32.0, 'dataPagamento ': None}]\n"
          ]
        }
      ]
    },
    {
      "cell_type": "code",
      "source": [
        "colunas = lista[0].keys()\n",
        "print(colunas)"
      ],
      "metadata": {
        "colab": {
          "base_uri": "https://localhost:8080/"
        },
        "id": "Uk_xj7USK6Kt",
        "outputId": "b3c65f5b-d3bc-407d-f916-79fe0357fecc"
      },
      "execution_count": null,
      "outputs": [
        {
          "output_type": "stream",
          "name": "stdout",
          "text": [
            "dict_keys(['dataLeitura ', 'numeroLeitura ', 'kwh ', 'valorPagar ', 'dataPagamento '])\n"
          ]
        }
      ]
    },
    {
      "cell_type": "code",
      "source": [
        "lista = [[x,f(x)] for x in range(2,10)] <---------- testar esse comando link https://pt.stackoverflow.com/questions/435541/acessar-elemento-de-lista-dentro-de-lista-em-python\n",
        "\n",
        "coluna = lista[:]['valorPagar']\n",
        "soma = 0\n",
        "contador = 0\n",
        "\n",
        "for i in lista:\n",
        "  if coluna in i:\n",
        "    valor = i[coluna]\n",
        "    soma += valor\n",
        "    contador += 1\n",
        "\n",
        "media = soma / contador\n",
        "print(media)\n",
        "\n"
      ],
      "metadata": {
        "colab": {
          "base_uri": "https://localhost:8080/",
          "height": 235
        },
        "id": "zvrAem62Lwgb",
        "outputId": "40db92ea-3e7f-45bf-d40a-68a0612a4b46"
      },
      "execution_count": null,
      "outputs": [
        {
          "output_type": "error",
          "ename": "TypeError",
          "evalue": "ignored",
          "traceback": [
            "\u001b[0;31m---------------------------------------------------------------------------\u001b[0m",
            "\u001b[0;31mTypeError\u001b[0m                                 Traceback (most recent call last)",
            "\u001b[0;32m<ipython-input-5-c56279b43106>\u001b[0m in \u001b[0;36m<cell line: 1>\u001b[0;34m()\u001b[0m\n\u001b[0;32m----> 1\u001b[0;31m \u001b[0mcoluna\u001b[0m \u001b[0;34m=\u001b[0m \u001b[0mlista\u001b[0m\u001b[0;34m[\u001b[0m\u001b[0;34m:\u001b[0m\u001b[0;34m]\u001b[0m\u001b[0;34m[\u001b[0m\u001b[0;34m'valorPagar'\u001b[0m\u001b[0;34m]\u001b[0m\u001b[0;34m\u001b[0m\u001b[0;34m\u001b[0m\u001b[0m\n\u001b[0m\u001b[1;32m      2\u001b[0m \u001b[0msoma\u001b[0m \u001b[0;34m=\u001b[0m \u001b[0;36m0\u001b[0m\u001b[0;34m\u001b[0m\u001b[0;34m\u001b[0m\u001b[0m\n\u001b[1;32m      3\u001b[0m \u001b[0mcontador\u001b[0m \u001b[0;34m=\u001b[0m \u001b[0;36m0\u001b[0m\u001b[0;34m\u001b[0m\u001b[0;34m\u001b[0m\u001b[0m\n\u001b[1;32m      4\u001b[0m \u001b[0;34m\u001b[0m\u001b[0m\n\u001b[1;32m      5\u001b[0m \u001b[0;32mfor\u001b[0m \u001b[0mi\u001b[0m \u001b[0;32min\u001b[0m \u001b[0mlista\u001b[0m\u001b[0;34m:\u001b[0m\u001b[0;34m\u001b[0m\u001b[0;34m\u001b[0m\u001b[0m\n",
            "\u001b[0;31mTypeError\u001b[0m: list indices must be integers or slices, not str"
          ]
        }
      ]
    },
    {
      "cell_type": "code",
      "source": [
        "soma = 0\n",
        "for i in range(len(lista[valorPagar ])):\n",
        "    \n",
        "\n",
        "media = soma / len(lista)\n",
        "\n",
        "print(\"Média dos valores a pagar:\", media)\n",
        "\n",
        "\n",
        "for i in range(num_contas):\n",
        "    nova_conta = contaLuz('', 0, 0.0, 0.0, None)\n",
        "    lista.append(nova_conta)"
      ],
      "metadata": {
        "colab": {
          "base_uri": "https://localhost:8080/",
          "height": 235
        },
        "id": "ejlDWNh849bL",
        "outputId": "ececd06c-3c4a-4a7e-8118-ac575ba1c5cc"
      },
      "execution_count": null,
      "outputs": [
        {
          "output_type": "error",
          "ename": "NameError",
          "evalue": "ignored",
          "traceback": [
            "\u001b[0;31m---------------------------------------------------------------------------\u001b[0m",
            "\u001b[0;31mNameError\u001b[0m                                 Traceback (most recent call last)",
            "\u001b[0;32m<ipython-input-23-6e8c61bb5540>\u001b[0m in \u001b[0;36m<cell line: 2>\u001b[0;34m()\u001b[0m\n\u001b[1;32m      1\u001b[0m \u001b[0msoma\u001b[0m \u001b[0;34m=\u001b[0m \u001b[0;36m0\u001b[0m\u001b[0;34m\u001b[0m\u001b[0;34m\u001b[0m\u001b[0m\n\u001b[0;32m----> 2\u001b[0;31m \u001b[0;32mfor\u001b[0m \u001b[0mi\u001b[0m \u001b[0;32min\u001b[0m \u001b[0mrange\u001b[0m\u001b[0;34m(\u001b[0m\u001b[0mlen\u001b[0m\u001b[0;34m(\u001b[0m\u001b[0mlista\u001b[0m\u001b[0;34m[\u001b[0m\u001b[0mvalorPagar\u001b[0m \u001b[0;34m]\u001b[0m\u001b[0;34m)\u001b[0m\u001b[0;34m)\u001b[0m\u001b[0;34m:\u001b[0m\u001b[0;34m\u001b[0m\u001b[0;34m\u001b[0m\u001b[0m\n\u001b[0m\u001b[1;32m      3\u001b[0m     \u001b[0msoma\u001b[0m \u001b[0;34m+=\u001b[0m \u001b[0mconta\u001b[0m\u001b[0;34m[\u001b[0m\u001b[0;34m'valorPagar'\u001b[0m\u001b[0;34m]\u001b[0m\u001b[0;34m\u001b[0m\u001b[0;34m\u001b[0m\u001b[0m\n\u001b[1;32m      4\u001b[0m \u001b[0;34m\u001b[0m\u001b[0m\n\u001b[1;32m      5\u001b[0m \u001b[0mmedia\u001b[0m \u001b[0;34m=\u001b[0m \u001b[0msoma\u001b[0m \u001b[0;34m/\u001b[0m \u001b[0mlen\u001b[0m\u001b[0;34m(\u001b[0m\u001b[0mlista\u001b[0m\u001b[0;34m)\u001b[0m\u001b[0;34m\u001b[0m\u001b[0;34m\u001b[0m\u001b[0m\n",
            "\u001b[0;31mNameError\u001b[0m: name 'valorPagar' is not defined"
          ]
        }
      ]
    }
  ]
}
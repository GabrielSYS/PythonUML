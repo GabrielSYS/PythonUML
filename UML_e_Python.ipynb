{
  "nbformat": 4,
  "nbformat_minor": 0,
  "metadata": {
    "colab": {
      "provenance": [],
      "authorship_tag": "ABX9TyODpOQ5KQNmkomKowhcCAyg",
      "include_colab_link": true
    },
    "kernelspec": {
      "name": "python3",
      "display_name": "Python 3"
    },
    "language_info": {
      "name": "python"
    }
  },
  "cells": [
    {
      "cell_type": "markdown",
      "metadata": {
        "id": "view-in-github",
        "colab_type": "text"
      },
      "source": [
        "<a href=\"https://colab.research.google.com/github/GabrielSYS/PythonUML/blob/main/UML_e_Python.ipynb\" target=\"_parent\"><img src=\"https://colab.research.google.com/assets/colab-badge.svg\" alt=\"Open In Colab\"/></a>"
      ]
    },
    {
      "cell_type": "code",
      "source": [
        "from datetime import datetime\n",
        "def contaLuz(dataLeitura, numeroLeitura, Kwh, valorPagar, dataPagamento):\n",
        "    dataLeitura = datetime.strptime(input(\"Data da leitura \"), '%d/%m/%Y').date()\n",
        "    numeroLeitura = int(input(\"ID \"))\n",
        "    Kwh = float(input(\"Kwh \"))\n",
        "    valorPagar = float(input(\"valor a pagar \"))\n",
        "    dataPagamento = datetime.strptime(input(\"Data de pagamento \"), '%d/%m/%Y').date()\n",
        "    return {'dataLeitura ': dataLeitura, 'numeroLeitura ': numeroLeitura, 'kwh ': Kwh, 'valorPagar ': valorPagar, 'dataPagamento ': dataPagamento}\n",
        "\n",
        "\n",
        "lista = []\n",
        "numContas = int(input(\"Digite o número de contas de luz a serem cadastradas: \"))\n",
        "\n",
        "\n",
        "for i in range(numContas):\n",
        "    novaConta = contaLuz(None, 0, 0.0, 0.0, None)\n",
        "    lista.append(novaConta)\n",
        "\n",
        "\n",
        "print(lista)"
      ],
      "metadata": {
        "id": "7CfW3Yiw-5wM",
        "colab": {
          "base_uri": "https://localhost:8080/"
        },
        "outputId": "2e246b85-f597-4efb-e27e-70ebc9b87f24"
      },
      "execution_count": 1,
      "outputs": [
        {
          "output_type": "stream",
          "name": "stdout",
          "text": [
            "Digite o número de contas de luz a serem cadastradas: 2\n",
            "Data da leitura 12/05/2020\n",
            "ID 213\n",
            "Kwh 1231\n",
            "valor a pagar 12321\n",
            "Data de pagamento 12/05/2020\n",
            "Data da leitura 12/10/2020\n",
            "ID 2134\n",
            "Kwh 321424\n",
            "valor a pagar 42134241\n",
            "Data de pagamento 20/05/2021\n",
            "[{'dataLeitura ': datetime.date(2020, 5, 12), 'numeroLeitura ': 213, 'kwh ': 1231.0, 'valorPagar ': 12321.0, 'dataPagamento ': datetime.date(2020, 5, 12)}, {'dataLeitura ': datetime.date(2020, 10, 12), 'numeroLeitura ': 2134, 'kwh ': 321424.0, 'valorPagar ': 42134241.0, 'dataPagamento ': datetime.date(2021, 5, 20)}]\n"
          ]
        }
      ]
    },
    {
      "cell_type": "code",
      "source": [
        "for conta in lista:\n",
        "    print(conta.keys())\n"
      ],
      "metadata": {
        "colab": {
          "base_uri": "https://localhost:8080/"
        },
        "id": "hGxx-kA0Pl40",
        "outputId": "5428c2db-a26d-4f05-ddfb-e56e62531461"
      },
      "execution_count": 35,
      "outputs": [
        {
          "output_type": "stream",
          "name": "stdout",
          "text": [
            "dict_keys(['dataLeitura ', 'numeroLeitura ', 'kwh ', 'valorPagar ', 'dataPagamento '])\n",
            "dict_keys(['dataLeitura ', 'numeroLeitura ', 'kwh ', 'valorPagar ', 'dataPagamento '])\n"
          ]
        }
      ]
    },
    {
      "cell_type": "code",
      "source": [
        "for conta in lista:\n",
        "    print(conta['valorPagar '])\n"
      ],
      "metadata": {
        "colab": {
          "base_uri": "https://localhost:8080/"
        },
        "id": "y8XnGlc3QYHk",
        "outputId": "af247cf1-481b-4979-d060-3119a03f47f6"
      },
      "execution_count": 36,
      "outputs": [
        {
          "output_type": "stream",
          "name": "stdout",
          "text": [
            "12321.0\n",
            "42134241.0\n"
          ]
        }
      ]
    },
    {
      "cell_type": "code",
      "source": [
        "soma = 0\n",
        "\n",
        "for conta in lista:\n",
        "    soma += conta['valorPagar ']\n",
        "\n",
        "media = soma / len(lista)\n",
        "print(\"Média dos valores de valor a pagar:\", media)\n"
      ],
      "metadata": {
        "id": "YabmVMsI4XUq",
        "colab": {
          "base_uri": "https://localhost:8080/"
        },
        "outputId": "c6ddafb3-259f-4a3b-c7bf-bec1d86a7d73"
      },
      "execution_count": 37,
      "outputs": [
        {
          "output_type": "stream",
          "name": "stdout",
          "text": [
            "Média dos valores de valor a pagar: 21073281.0\n"
          ]
        }
      ]
    }
  ]
}